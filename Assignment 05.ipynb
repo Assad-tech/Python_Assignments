{
 "cells": [
  {
   "cell_type": "raw",
   "metadata": {},
   "source": [
    "Assignment 05\n",
    "Name: Asadullah\n",
    "Email Address: assadphl@gmail.com\n",
    "Roll NO:PY05870"
   ]
  },
  {
   "cell_type": "code",
   "execution_count": 40,
   "metadata": {
    "scrolled": true
   },
   "outputs": [
    {
     "name": "stdout",
     "output_type": "stream",
     "text": [
      "24 Factorail is: \n"
     ]
    }
   ],
   "source": [
    "#Qno: 1\n",
    "a=4\n",
    "fact =1 \n",
    "for n in range(1,a+1):\n",
    "    fact =fact*n\n",
    "print(fact,\"Factorail is: \")\n",
    "    "
   ]
  },
  {
   "cell_type": "code",
   "execution_count": 27,
   "metadata": {
    "scrolled": true
   },
   "outputs": [
    {
     "name": "stdout",
     "output_type": "stream",
     "text": [
      "Enter Numbers: 0\n",
      "This is Even number:  0\n"
     ]
    }
   ],
   "source": [
    "#Qno: 2\n",
    "def Nature(*list1):\n",
    "    #list1 =[45,4,25,53,98,00]\n",
    "    for n in list1:\n",
    "        if n % 2 ==0:\n",
    "            print(\"This is Even number: \",n)\n",
    "        elif n%2 ==1:\n",
    "            print(\"This is Odd number Odd: \",n)\n",
    "num = int(input(\"Enter Numbers: \"))\n",
    "Nature(num)"
   ]
  },
  {
   "cell_type": "code",
   "execution_count": 11,
   "metadata": {},
   "outputs": [
    {
     "name": "stdout",
     "output_type": "stream",
     "text": [
      "Wellcome to Reality shopping Mall\n",
      "\tYou have selected following Items to shop:\n",
      "('Watch', 'Sun Glasses', 'Body Spary', 'Hair Jel')\n"
     ]
    }
   ],
   "source": [
    "#Qno: 06\n",
    "def shop(*param):\n",
    "    print(\"Wellcome to Reality shopping Mall\\n\\tYou have selected following Items to shop:\")\n",
    "    #for key,value in param.items():\n",
    "    \n",
    "    print(param)\n",
    "shop(\"Watch\",\"Sun Glasses\",\"Body Spary\",\"Hair Jel\")\n"
   ]
  },
  {
   "cell_type": "code",
   "execution_count": null,
   "metadata": {},
   "outputs": [],
   "source": []
  }
 ],
 "metadata": {
  "kernelspec": {
   "display_name": "Python 3",
   "language": "python",
   "name": "python3"
  },
  "language_info": {
   "codemirror_mode": {
    "name": "ipython",
    "version": 3
   },
   "file_extension": ".py",
   "mimetype": "text/x-python",
   "name": "python",
   "nbconvert_exporter": "python",
   "pygments_lexer": "ipython3",
   "version": "3.7.4"
  }
 },
 "nbformat": 4,
 "nbformat_minor": 2
}
