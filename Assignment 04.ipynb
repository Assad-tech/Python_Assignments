{
 "cells": [
  {
   "cell_type": "raw",
   "metadata": {},
   "source": [
    "Assignment 04\n",
    "Name: Asadullah\n",
    "Email Address: assadphl@gmail.com\n",
    "Roll NO:PY05870"
   ]
  },
  {
   "cell_type": "code",
   "execution_count": 10,
   "metadata": {},
   "outputs": [
    {
     "name": "stdout",
     "output_type": "stream",
     "text": [
      "Please write the correct Option in Input field\n",
      "1: What is your Country Name?\n",
      "'a' Pakistan\n",
      "'b' India\n",
      "'c' UAE\n",
      "'d' Afghanistan\n",
      "a\n",
      "2: What is your City Name?\n",
      "'a' Tharparkar\n",
      "'b' Sukkur\n",
      "'c' Dadu\n",
      "'d'N/Feroze\n",
      "d\n",
      "3: How many districts are in Sindh?\n",
      "'a' 28\n",
      "'b' 31\n",
      "'c' 29\n",
      "'d' 30\n",
      "d\n",
      "4: How many Divisions are in Sindh?\n",
      "'a' 4\n",
      "'b' 3\n",
      "'c' 6\n",
      "'d' 5\n",
      "c\n",
      "5: Which is the Largest city of Sindh?\n",
      "'a' Hyderabad\n",
      "'b' Karachi\n",
      "'c' Khairpur\n",
      "'d' Tharparkar\n",
      "a\n",
      "your Score is: 28 out of 35 And %  your is:  80.0  'Excellent Job.'Weldone.\n"
     ]
    }
   ],
   "source": [
    "#Quaiz Questions Program.\n",
    "List = [\n",
    "    {\n",
    "        \"Qno#\": 1,\n",
    "        \"qno\": 'What is your Country Name?',\n",
    "        \"options\": [\"'a' Pakistan\",\"'b' India\",\"'c' UAE\",\"'d' Afghanistan\"],\n",
    "        \"answer\": 'a'\n",
    "    },{\n",
    "        \n",
    "        \"Qno#\": 2,\n",
    "        \"qno\": 'What is your City Name?',\n",
    "        \"options\": [\"'a' Tharparkar\",\"'b' Sukkur\",\"'c' Dadu\",\"'d'N/Feroze\"],\n",
    "        \"answer\": 'd'\n",
    "    },{\n",
    "        \"Qno#\": 3,\n",
    "        \"qno\": 'How many districts are in Sindh?',\n",
    "        \"options\": [\"'a' 28\",\"'b' 31\",\"'c' 29\",\"'d' 30\"],\n",
    "        \"answer\": 'd'\n",
    "    },{\n",
    "        \"Qno#\": 4,\n",
    "        \"qno\": 'How many Divisions are in Sindh?',\n",
    "        \"options\": [\"'a' 4\",\"'b' 3\",\"'c' 6\",\"'d' 5\"],\n",
    "        \"answer\": 'c'\n",
    "    },{\n",
    "        \"Qno#\": 5,\n",
    "        \"qno\": 'Which is the Largest city of Sindh?',\n",
    "        \"options\": [\"'a' Hyderabad\",\"'b' Karachi\",\"'c' Khairpur\",\"'d' Tharparkar\"],\n",
    "        \"answer\": 'b'\n",
    "    }\n",
    "]\n",
    "score = 0\n",
    "print(\"Please write the correct Option in Input field\")\n",
    "for question in List:\n",
    "    data = str(question[\"Qno#\"]) +\": \"+ question[\"qno\"]+\"\\n\"+ question[\"options\"][0]+\"\\n\"+question[\"options\"][1]+\"\\n\"+question[\"options\"][2]+\"\\n\"+question[\"options\"][3]+\"\\n\"\n",
    "    answer = input(data)\n",
    "    if answer == question[\"answer\"]:\n",
    "        score +=7\n",
    "total = 35\n",
    "per = score/total*100\n",
    "if per < 49:\n",
    "    print(\"your Score is:\"+ str(score)+\" out of 35 And %  your is: \",per,\" Sorry You Are Fail.\")\n",
    "elif per >=40 and per <=49:\n",
    "    print(\"your Score is:\"+ str(score)+\" out of 35 And %  your is: \",per,\" You are just pass\")\n",
    "elif per >=60 and per <=69:\n",
    "    print(\"your Score is:\"+ str(score)+\" out of 35 And %  your is: \",per,\"  'Good' You are pass.\")\n",
    "elif per >=70 and per <=79:\n",
    "    print(\"your Score is:\"+ str(score)+\" out of 35 And %  your is: \",per,\" 'Very Good'Best of Luck.\")\n",
    "elif per >=80 and per <=100:\n",
    "    print(\"your Score is: \"+ str(score)+\" out of 35 And %  your is: \",per,\" 'Excellent Job.'Weldone.\")"
   ]
  },
  {
   "cell_type": "code",
   "execution_count": 23,
   "metadata": {},
   "outputs": [
    {
     "name": "stdout",
     "output_type": "stream",
     "text": [
      "1. Before update \n",
      "Asad Phull\n",
      "23\n",
      "N/feroze\n",
      "2. After update \n",
      "Asad Phull\n",
      "23\n",
      "BS-IT\n",
      "N/feroze\n",
      "3. After deleting update \n",
      "{'F/name': 'Asad', 'L/name': 'Phull', 'Age': '23', 'city': 'N/feroze'}\n"
     ]
    }
   ],
   "source": [
    "#Qno 01\n",
    "store = {\n",
    "    \"F/name\": \"Asad\",\n",
    "    \"L/name\": \"Phull\",\n",
    "    \"Age\": \"23\",\n",
    "    \"city\": \"N/feroze\"\n",
    "}\n",
    "print(\"1. Before update \\n\"+store[\"F/name\"]+\" \"+store[\"L/name\"]+\"\\n\"+store[\"Age\"]+\"\\n\"+store[\"city\"])\n",
    "store[\"Qualification\"]= \"BS-IT\"\n",
    "print(\"2. After update \\n\"+store[\"F/name\"]+\" \"+store[\"L/name\"]+\"\\n\"+store[\"Age\"]+\"\\n\"+store[\"Qualification\"]+\"\\n\"+store[\"city\"])\n",
    "del store[\"Qualification\"]\n",
    "print(\"3. After deleting update \\n\"+str(store))"
   ]
  },
  {
   "cell_type": "code",
   "execution_count": 3,
   "metadata": {
    "scrolled": false
   },
   "outputs": [
    {
     "name": "stdout",
     "output_type": "stream",
     "text": [
      "Islamabad: \n",
      " {'Country': 'Pakistan', 'Population': 'About 1.015 Millions', 'Fact': 'There is no Villege in the Capital of Pakistan'}\n",
      "Dhaka: \n",
      " {'Country': 'Bangladesh', 'Population': 'About 8.906 Millions', 'Fact': 'The Ciy of Masjids'}\n",
      "NewYork: \n",
      " {'Country': 'USA', 'Population': 'About 8.623 Million', 'Fact': 'The city of Dense traffic'}\n"
     ]
    }
   ],
   "source": [
    "#Qno 02\n",
    "cities = {\n",
    "    \"Islamabad:\": {\"Country\": \"Pakistan\",\n",
    "                  \"Population\": \"About 1.015 Millions\",\n",
    "                  \"Fact\": \"There is no Villege in the Capital of Pakistan\"},\n",
    "    \"Dhaka:\": {\"Country\": \"Bangladesh\",\n",
    "                  \"Population\": \"About 8.906 Millions\",\n",
    "                  \"Fact\": \"The Ciy of Masjids\"},\n",
    "    \"NewYork:\": {\"Country\": \"USA\",\n",
    "                  \"Population\": \"About 8.623 Million\",\n",
    "                  \"Fact\": \"The city of Dense traffic\"}\n",
    "}\n",
    "for each_key,each_value in cities.items():\n",
    "    print(each_key,\"\\n\",each_value)\n",
    "    "
   ]
  },
  {
   "cell_type": "code",
   "execution_count": 5,
   "metadata": {},
   "outputs": [
    {
     "name": "stdout",
     "output_type": "stream",
     "text": [
      "Please enter your age to pay for Movie:65\n",
      "\n",
      " Please pay 15$ to get your Movie Ticket\n"
     ]
    }
   ],
   "source": [
    "#Qno 03\n",
    "Movie = {\n",
    "    \"under 3\":\"You are under 3 years, you are free to watch Movie\",\n",
    "    \"3 to 12\":\"Please pay 10$ to get your Movie Ticket\",\n",
    "    \"over 12\":\"Please pay 15$ to get your Movie Ticket\"\n",
    "}\n",
    "for ticket in Movie:\n",
    "    answer = int(input(\"Please enter your age to pay for Movie:\"))\n",
    "    if answer <= 3:\n",
    "        print(\"\\n\",Movie[\"under 3\"])\n",
    "        break\n",
    "    elif answer >= 3 and answer <= 12:\n",
    "        print(\"\\n\",Movie[\"3 to 12\"])\n",
    "        break\n",
    "    elif answer >= 12:\n",
    "        print(\"\\n\",Movie[\"over 12\"])\n",
    "        break"
   ]
  },
  {
   "cell_type": "code",
   "execution_count": 2,
   "metadata": {
    "scrolled": true
   },
   "outputs": [
    {
     "name": "stdout",
     "output_type": "stream",
     "text": [
      "Please Enter the BOOk name:python programming\n",
      "The Book ( Python Programming )is one of my Favorite Books.\n"
     ]
    }
   ],
   "source": [
    "#Qno 04\n",
    "def Fav_Book(book):\n",
    "    Msg = \")is one of my Favorite Books.\"\n",
    "    print(\"The Book (\",book.title(),Msg)\n",
    "    \n",
    "book = input(\"Please Enter the BOOk name:\")\n",
    "Fav_Book(book)"
   ]
  },
  {
   "cell_type": "code",
   "execution_count": 5,
   "metadata": {},
   "outputs": [
    {
     "name": "stdout",
     "output_type": "stream",
     "text": [
      "Please enter a number to Guess the correct Random Number:50\n",
      "You Guessed Higher, Random Number is 4\n",
      "Please enter a number to Guess the correct Random Number:2\n",
      "You Guessed Lower, Random Number is 5\n",
      "Please enter a number to Guess the correct Random Number:1\n",
      "You got it!! Random Number is  1\n"
     ]
    }
   ],
   "source": [
    "#Qno 05\n",
    "import random\n",
    "counter = 0\n",
    "while counter < 3:\n",
    "    guess = int(input(\"Please enter a number to Guess the correct Random Number:\"))\n",
    "    number = random.randint(1,5) # total range of Random numbers\n",
    "    counter += 1\n",
    "    if guess == number:\n",
    "        print(\"You got it!! Random Number is \",number)\n",
    "    elif guess > number:\n",
    "        print(\"You Guessed Higher, Random Number is\",number)\n",
    "    elif guess < number:\n",
    "        print(\"You Guessed Lower, Random Number is\",number)        "
   ]
  },
  {
   "cell_type": "markdown",
   "metadata": {},
   "source": [
    " "
   ]
  },
  {
   "cell_type": "code",
   "execution_count": null,
   "metadata": {},
   "outputs": [],
   "source": []
  }
 ],
 "metadata": {
  "kernelspec": {
   "display_name": "Python 3",
   "language": "python",
   "name": "python3"
  },
  "language_info": {
   "codemirror_mode": {
    "name": "ipython",
    "version": 3
   },
   "file_extension": ".py",
   "mimetype": "text/x-python",
   "name": "python",
   "nbconvert_exporter": "python",
   "pygments_lexer": "ipython3",
   "version": "3.7.4"
  }
 },
 "nbformat": 4,
 "nbformat_minor": 2
}
