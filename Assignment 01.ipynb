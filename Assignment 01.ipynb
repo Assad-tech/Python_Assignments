{
 "cells": [
  {
   "cell_type": "raw",
   "metadata": {},
   "source": [
    "Assignment 01"
   ]
  },
  {
   "cell_type": "code",
   "execution_count": 1,
   "metadata": {},
   "outputs": [
    {
     "name": "stdout",
     "output_type": "stream",
     "text": [
      "Twinkle, twinkle, little star,\n",
      "\tHow I wonder what you are!\n",
      "\t\tUp above the world so high,\n",
      "\t\tLike a diamond in the sky.\n",
      "Twinkle, twinkle, little star,\n",
      "\tHow I wonder what you are!\n",
      "\n"
     ]
    }
   ],
   "source": [
    "#Assignment Qno#1\n",
    "a =\"Twinkle, twinkle, little star,\\n\"\n",
    "b =\"\\tHow I wonder what you are!\\n\"\n",
    "c = \"\\t\\tUp above the world so high,\\n\"\n",
    "d =\"\\t\\tLike a diamond in the sky.\\n\"\n",
    "\n",
    "print(a+b+c+d+a+b);"
   ]
  },
  {
   "cell_type": "code",
   "execution_count": null,
   "metadata": {},
   "outputs": [],
   "source": [
    "#Assignment Qno#2 Write a Python program to get the Python version you are using??\n",
    "# I couldn't Get.."
   ]
  },
  {
   "cell_type": "code",
   "execution_count": 6,
   "metadata": {
    "scrolled": true
   },
   "outputs": [
    {
     "name": "stdout",
     "output_type": "stream",
     "text": [
      "The Current Time Is: 7:59:33\n",
      "The Current Day Is: 23/11/2019\n"
     ]
    }
   ],
   "source": [
    " #Assignment Qno#3\n",
    "import datetime    # this is a packege which helps you run/ show the recent Date and Time.\n",
    "show = datetime.datetime.now()\n",
    "print(\"The Current Time Is: %s:%s:%s\" %(show.hour, show.minute,show.second))\n",
    "print(\"The Current Day Is: %s/%s/%s\" %(show.day, show.month,show.year))"
   ]
  },
  {
   "cell_type": "code",
   "execution_count": 8,
   "metadata": {},
   "outputs": [
    {
     "name": "stdout",
     "output_type": "stream",
     "text": [
      "Please Enter the value of Radius to get the Area: 23\n",
      "The Area of cirlce in meters is:  1661.0600000000002\n"
     ]
    }
   ],
   "source": [
    " #Assignment Qno#4\n",
    "R = int(input(\"Please Enter the value of Radius to get the Area: \"))\n",
    "Area = 3.14*(R**2)\n",
    "print(\"The Area of cirlce in meters is: \",Area)"
   ]
  },
  {
   "cell_type": "code",
   "execution_count": null,
   "metadata": {},
   "outputs": [],
   "source": [
    "#Assignment Qno#5\n",
    "F = input(\"Enter First Name Please: \")\n",
    "L = input(\"Now Enter Last Name: \")\n",
    "    N = L+\" \"+F\n",
    "    print(N)"
   ]
  },
  {
   "cell_type": "code",
   "execution_count": 4,
   "metadata": {},
   "outputs": [
    {
     "name": "stdout",
     "output_type": "stream",
     "text": [
      "Please Enter a Number: 54\n",
      "Now Enter another number: 32\n",
      "The Addition of  54  and  32 is:  86\n"
     ]
    }
   ],
   "source": [
    "# Assignment Qno#6 \n",
    "x = int(input(\"Please Enter a Number: \"))\n",
    "y = int(input(\"Now Enter another number: \"))\n",
    "z = int(x+y) #Addition\n",
    "print(\"The Addition of \",x,\" and \",y, \"is: \",z)"
   ]
  }
 ],
 "metadata": {
  "kernelspec": {
   "display_name": "Python 3",
   "language": "python",
   "name": "python3"
  },
  "language_info": {
   "codemirror_mode": {
    "name": "ipython",
    "version": 3
   },
   "file_extension": ".py",
   "mimetype": "text/x-python",
   "name": "python",
   "nbconvert_exporter": "python",
   "pygments_lexer": "ipython3",
   "version": "3.7.4"
  }
 },
 "nbformat": 4,
 "nbformat_minor": 2
}
